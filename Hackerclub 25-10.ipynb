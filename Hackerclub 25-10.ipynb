{
 "cells": [
  {
   "cell_type": "code",
   "execution_count": 1,
   "metadata": {},
   "outputs": [
    {
     "name": "stdout",
     "output_type": "stream",
     "text": [
      "1 1\n",
      "Need more materials!\n"
     ]
    }
   ],
   "source": [
    "from math import pi\n",
    "a, n = map(float, input().split())\n",
    "max_a = (n**2) / (4*pi)\n",
    "\n",
    "if max_a >= a:\n",
    "    print(\"Diablo is happy!\")\n",
    "else:\n",
    "    print(\"Need more materials!\")"
   ]
  },
  {
   "cell_type": "code",
   "execution_count": 19,
   "metadata": {},
   "outputs": [
    {
     "name": "stdout",
     "output_type": "stream",
     "text": [
      "4 0 0 0\n",
      "4 16 8 2\n",
      "2 64 32 4\n",
      "2048 64 0 0\n"
     ]
    }
   ],
   "source": [
    "f = open(\"input.txt\")\n",
    "input = lambda: f.readline()\n",
    "\n",
    "\n",
    "def flip(grid, axis=0):\n",
    "    if axis == 1:\n",
    "        return [r[::-1] for r in grid]\n",
    "    \n",
    "    return [r[:] for r in grid[::-1]]\n",
    "\n",
    "def T(grid):\n",
    "    return [[grid[j][i] for j in range(len(grid[i]))] for i in range(len(grid))]\n",
    "\n",
    "def slide(grid, di, comb=True):\n",
    "    if di > 1:\n",
    "        new = flip(grid, (di+1)%2)\n",
    "        new = slide(new, di%2)\n",
    "        return flip(new, (di+1)%2)\n",
    "    \n",
    "    if di == 1:\n",
    "        new = T(grid)\n",
    "        new = slide(new, 0)\n",
    "        return T(new)\n",
    "    \n",
    "    if di == 0:\n",
    "        new =[[0]*len(grid[0]) for _ in range(len(grid))]\n",
    "        # Shift all numbers\n",
    "        moved = [[grid[i][j] for j in range(len(grid[0])) if grid[i][j]] for i in range(len(grid))]\n",
    "        \n",
    "        for i in range(len(moved)):\n",
    "            for j in range(len(moved[i])):\n",
    "                new[i][j] = moved[i][j]\n",
    "        \n",
    "        if comb:\n",
    "            new = combine(new)\n",
    "        return new\n",
    "    \n",
    "def combine(grid):\n",
    "    for i in range(len(grid)):\n",
    "        for j in range(len(grid[0])-1):\n",
    "            if grid[i][j] == grid[i][j+1] != 0:\n",
    "                grid[i][j] = grid[i][j]*2\n",
    "                grid[i][j+1] = 0\n",
    "    \n",
    "    return slide(grid, 0, False)\n",
    "    \n",
    "    \n",
    "\n",
    "g = [list(map(int, input().split())) for _ in range(4)]\n",
    "# g = [[2]*4]*4\n",
    "move = int(input())\n",
    "\n",
    "for row in slide(g, move):\n",
    "    print(*[int(c) for c in row])"
   ]
  },
  {
   "cell_type": "code",
   "execution_count": 31,
   "metadata": {},
   "outputs": [
    {
     "name": "stdout",
     "output_type": "stream",
     "text": [
      "start: 1 , end: 3\n",
      "[0, 1, 3, 14]\n",
      "[2, 0, 4, 22]\n",
      "[3, 10, 0, 7]\n",
      "[13, 8, 2, 0]\n",
      "1\n",
      "0\n",
      "2\n",
      "3\n",
      "{0: inf, 1: 0, 2: inf, 3: inf}\n",
      "[]\n"
     ]
    }
   ],
   "source": [
    "from math import inf\n",
    "\n",
    "f = open(\"input.txt\")\n",
    "input = lambda: f.readline()\n",
    "\n",
    "n, start, end = map(int, input().split())\n",
    "distances = [list(map(int, input().split())) for _ in range(n)]\n",
    "\n",
    "print(\"start:\", start, \", end:\", end)\n",
    "print(*distances, sep=\"\\n\")\n",
    "\n",
    "# Dijkstra\n",
    "q = set(range(n))\n",
    "dist = {v: inf for v in range(n)}\n",
    "prev = {v: None for v in range(n)}\n",
    "dist[start] = 0\n",
    "\n",
    "while q:\n",
    "    u = min(q, key=lambda x: dist[x])\n",
    "    q.remove(u)\n",
    "    \n",
    "    print(u)\n",
    "    \n",
    "    for v in q:\n",
    "        alt = dist[v] + distances[u][v]\n",
    "        if alt < dist[v]:\n",
    "            dist[v] = alt\n",
    "            prev[v] = u\n",
    "            \n",
    "###\n",
    "print(dist)\n",
    "\n",
    "\n",
    "s = []\n",
    "u = end\n",
    "if prev[u] or u == start:\n",
    "    while u:\n",
    "        s.insert(u, 0)\n",
    "        u = prev[u]\n",
    "        \n",
    "print(s)\n",
    "            \n"
   ]
  },
  {
   "cell_type": "code",
   "execution_count": 82,
   "metadata": {
    "scrolled": true
   },
   "outputs": [
    {
     "name": "stdout",
     "output_type": "stream",
     "text": [
      "4\n",
      "         119122 function calls (61679 primitive calls) in 9.226 seconds\n",
      "\n",
      "   Ordered by: internal time\n",
      "   List reduced from 45 to 10 due to restriction <10>\n",
      "\n",
      "   ncalls  tottime  percall  cumtime  percall filename:lineno(function)\n",
      "  57444/1    8.867    0.000    8.893    8.893 <ipython-input-82-099e0e9b060b>:17(pfind)\n",
      "        1    0.251    0.251    0.328    0.328 <ipython-input-82-099e0e9b060b>:11(<listcomp>)\n",
      "     1001    0.050    0.000    0.050    0.000 {method 'split' of 'str' objects}\n",
      "    57485    0.026    0.000    0.026    0.000 {built-in method builtins.min}\n",
      "     1001    0.019    0.000    0.028    0.000 {method 'readline' of '_io.TextIOWrapper' objects}\n",
      "      356    0.008    0.000    0.008    0.000 {built-in method _codecs.charmap_decode}\n",
      "        1    0.003    0.003    0.331    0.331 <ipython-input-82-099e0e9b060b>:11(<module>)\n",
      "        1    0.001    0.001    0.001    0.001 {built-in method io.open}\n",
      "     1001    0.001    0.000    0.028    0.000 <ipython-input-82-099e0e9b060b>:8(<lambda>)\n",
      "        9    0.001    0.000    0.001    0.000 {built-in method builtins.compile}\n",
      "\n",
      "\n"
     ]
    },
    {
     "data": {
      "text/plain": [
       "<pstats.Stats at 0x22d49bc40b8>"
      ]
     },
     "execution_count": 82,
     "metadata": {},
     "output_type": "execute_result"
    }
   ],
   "source": [
    "import cProfile, pstats\n",
    "\n",
    "prof = cProfile.Profile()\n",
    "prof.enable()\n",
    "\n",
    "\n",
    "f = open(\"input.txt\")\n",
    "input = lambda: f.readline()\n",
    "\n",
    "n, start, end = map(int, input().split())\n",
    "distances = [list(map(int, input().split())) for _ in range(n)]\n",
    "\n",
    "m = distances[start][end]\n",
    "all_i = set(range(n))\n",
    "\n",
    "    \n",
    "def pfind(prev, prev_dist, min_dist):\n",
    "    \n",
    "    unseen = all_i - set(prev)\n",
    "    \n",
    "    for i in unseen:\n",
    "        if prev_dist + distances[prev[-1]][i] >= min_dist:\n",
    "            continue\n",
    "        \n",
    "        \n",
    "        if i == end:\n",
    "            new_min = prev_dist + distances[prev[-1]][end]\n",
    "        else:\n",
    "            new_min = pfind(prev+[i], prev_dist+distances[prev[-1]][i], min_dist)\n",
    "        \n",
    "        min_dist = min(new_min, min_dist)\n",
    "    \n",
    "    return min_dist        \n",
    "        \n",
    "\n",
    "print(pfind([start], 0, m))\n",
    "\n",
    "prof.disable()\n",
    "stats = pstats.Stats(prof).sort_stats(\"tottime\")\n",
    "stats.print_stats(10)\n",
    "\n"
   ]
  },
  {
   "cell_type": "code",
   "execution_count": 72,
   "metadata": {},
   "outputs": [],
   "source": [
    "import random\n",
    "\n",
    "N = 1000\n",
    "_d = [[random.randrange(1, 100) for _ in range(N)] for __ in range(N)]\n",
    "for i in range(N):\n",
    "    _d[i][i] = 0\n",
    "\n",
    "with open(\"input.txt\", \"w\") as f:\n",
    "    f.write(\"{} {} {}\\n\".format(N, random.randrange(N), random.randrange(100)))\n",
    "    for line in _d:\n",
    "        f.write(\" \".join(map(str,line)) + \"\\n\")\n"
   ]
  },
  {
   "cell_type": "code",
   "execution_count": null,
   "metadata": {},
   "outputs": [],
   "source": []
  }
 ],
 "metadata": {
  "kernelspec": {
   "display_name": "Python 3",
   "language": "python",
   "name": "python3"
  },
  "language_info": {
   "codemirror_mode": {
    "name": "ipython",
    "version": 3
   },
   "file_extension": ".py",
   "mimetype": "text/x-python",
   "name": "python",
   "nbconvert_exporter": "python",
   "pygments_lexer": "ipython3",
   "version": "3.6.5"
  }
 },
 "nbformat": 4,
 "nbformat_minor": 2
}
