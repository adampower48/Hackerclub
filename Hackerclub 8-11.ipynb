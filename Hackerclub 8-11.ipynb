{
 "cells": [
  {
   "cell_type": "markdown",
   "metadata": {},
   "source": [
    "# Easy"
   ]
  },
  {
   "cell_type": "code",
   "execution_count": 2,
   "metadata": {},
   "outputs": [
    {
     "name": "stdout",
     "output_type": "stream",
     "text": [
      "bobapalaxios\n"
     ]
    }
   ],
   "source": [
    "from string import ascii_lowercase\n",
    "s = input()\n",
    "\n",
    "for c in ascii_lowercase:\n",
    "    while c+c in s:\n",
    "        s = s.replace(c+c, c)\n",
    "\n",
    "print(s)"
   ]
  },
  {
   "cell_type": "code",
   "execution_count": 5,
   "metadata": {},
   "outputs": [
    {
     "data": {
      "text/plain": [
       "(3.141592653589793, 2.0000000000000004)"
      ]
     },
     "execution_count": 5,
     "metadata": {},
     "output_type": "execute_result"
    }
   ],
   "source": [
    "from math import pi, sqrt\n",
    "\n",
    "r = int(input())\n",
    "\n",
    "taxi_side = r * sqrt(2)\n",
    "taxi_area = taxi_side ** 2\n",
    "\n",
    "euclid_area = pi * r ** 2\n",
    "\n",
    "print(euclid_area, taxi_area, sep=\"\\n\")"
   ]
  },
  {
   "cell_type": "code",
   "execution_count": 10,
   "metadata": {},
   "outputs": [
    {
     "name": "stdout",
     "output_type": "stream",
     "text": [
      "Possible\n",
      "Possible\n",
      "Impossible\n",
      "Possible\n",
      "Possible\n",
      "Impossible\n"
     ]
    }
   ],
   "source": [
    "with open(\"input.txt\") as f:\n",
    "    n = int(f.readline().strip())\n",
    "    cases = [list(map(int, f.readline().strip().split())) for _ in range(n)]\n",
    "\n",
    "ops = [\n",
    "    lambda a,b: a-b,\n",
    "    lambda a,b: a+b,\n",
    "    lambda a,b: a*b,\n",
    "    lambda a,b: a/b,\n",
    "]\n",
    "    \n",
    "for a,b,c in cases:\n",
    "    tests = [(op(a,b) == c or op(b, a) == c) for op in ops]\n",
    "    if True in tests:\n",
    "        print(\"Possible\")\n",
    "    else:\n",
    "        print(\"Impossible\")\n",
    "    "
   ]
  },
  {
   "cell_type": "code",
   "execution_count": 23,
   "metadata": {},
   "outputs": [
    {
     "name": "stdout",
     "output_type": "stream",
     "text": [
      "Emma\n"
     ]
    }
   ],
   "source": [
    "with open(\"input.txt\") as f:\n",
    "    gunt = list(map(int, f.readline().strip().split()))\n",
    "    emma = list(map(int, f.readline().strip().split()))\n",
    "\n",
    "def exp(a,b):\n",
    "    return sum(range(a,b+1))/(b-a+1)\n",
    "\n",
    "exp_gunt = exp(gunt[0], gunt[1]) + exp(gunt[2], gunt[3])\n",
    "exp_emma = exp(emma[0], emma[1]) + exp(emma[2], emma[3])\n",
    "\n",
    "if exp_gunt < exp_emma:\n",
    "    print(\"Emma\")\n",
    "elif exp_gunt > exp_emma:\n",
    "    print(\"Gunnar\")\n",
    "else:\n",
    "    print(\"Tie\")"
   ]
  },
  {
   "cell_type": "markdown",
   "metadata": {},
   "source": [
    "# Hard"
   ]
  },
  {
   "cell_type": "code",
   "execution_count": 32,
   "metadata": {},
   "outputs": [
    {
     "name": "stdout",
     "output_type": "stream",
     "text": [
      "30\n",
      "1\n",
      "2\n"
     ]
    }
   ],
   "source": [
    "from functools import reduce\n",
    "\n",
    "def lowest_common_multiple(*args):\n",
    "    if len(args) == 0:\n",
    "        return 0\n",
    "\n",
    "    if len(args) == 1:\n",
    "        return args[0]\n",
    "\n",
    "    if len(args) == 2:\n",
    "        a, b = args[0], args[1]\n",
    "        return (a * b) // greatest_common_divisor(a, b)\n",
    "\n",
    "    return reduce(lowest_common_multiple, args)\n",
    "\n",
    "\n",
    "# Euclid's algorithm. Only works for a, b > 0\n",
    "def greatest_common_divisor(*args):\n",
    "    if len(args) == 0:\n",
    "        return 1\n",
    "\n",
    "    if len(args) == 1:\n",
    "        return args[0]\n",
    "\n",
    "    if len(args) == 2:\n",
    "        a, b = max(args), min(args)\n",
    "        while b != 0:\n",
    "            a, b = b, a % b\n",
    "        return abs(a)\n",
    "\n",
    "    return reduce(greatest_common_divisor, args)\n",
    "\n",
    "\n",
    "with open(\"input.txt\") as f:\n",
    "    n = int(f.readline())\n",
    "    cases = []\n",
    "    for _ in range(n):\n",
    "        w = int(f.readline())\n",
    "        wheels = list(map(int, f.readline().strip().split()))\n",
    "        cases.append(wheels)\n",
    "    \n",
    "for wheels in cases:\n",
    "    p = lowest_common_multiple(*wheels)\n",
    "    if p > 10**9:\n",
    "        print(\"More than a billion.\")\n",
    "    else:\n",
    "        print(lowest_common_multiple(*wheels))"
   ]
  },
  {
   "cell_type": "code",
   "execution_count": 2,
   "metadata": {},
   "outputs": [
    {
     "data": {
      "text/plain": [
       "[{'n_locs': 4,\n",
       "  'start_loc': 2,\n",
       "  'n_people': 8,\n",
       "  'time': 5,\n",
       "  'n_facs': 2,\n",
       "  'fac_locs': [1, 3],\n",
       "  'n_roads': 5,\n",
       "  'roads': [[0, 1, 1, 3],\n",
       "   [2, 1, 1, 4],\n",
       "   [2, 0, 2, 1],\n",
       "   [0, 3, 1, 3],\n",
       "   [2, 3, 1, 3]]},\n",
       " {'n_locs': 4,\n",
       "  'start_loc': 2,\n",
       "  'n_people': 10,\n",
       "  'time': 5,\n",
       "  'n_facs': 2,\n",
       "  'fac_locs': [1, 3],\n",
       "  'n_roads': 5,\n",
       "  'roads': [[0, 1, 1, 3],\n",
       "   [2, 1, 1, 4],\n",
       "   [2, 0, 2, 1],\n",
       "   [0, 3, 1, 3],\n",
       "   [2, 3, 1, 3]]}]"
      ]
     },
     "execution_count": 2,
     "metadata": {},
     "output_type": "execute_result"
    }
   ],
   "source": [
    "with open(\"input.txt\") as f:\n",
    "    cases = []\n",
    "    \n",
    "    tests = int(f.readline())\n",
    "    for _ in range(tests):\n",
    "        n_locs = int(f.readline())\n",
    "        loc, people, time = list(map(int, f.readline().strip().split()))\n",
    "        loc -= 1\n",
    "        m = int(f.readline())\n",
    "        facs = [int(f.readline())-1 for _ in range(m)]\n",
    "        r = int(f.readline())\n",
    "        roads = []\n",
    "        for _ in range(r):\n",
    "            a, b, p, t = list(map(int, f.readline().strip().split()))\n",
    "            a -= 1\n",
    "            b -= 1\n",
    "            roads.append([a,b,p,t])\n",
    "        \n",
    "        cases.append({\n",
    "            \"n_locs\": n_locs,\n",
    "            \"start_loc\": loc,\n",
    "            \"n_people\": people,\n",
    "            \"time\": time,\n",
    "            \"n_facs\": m,\n",
    "            \"fac_locs\": facs,\n",
    "            \"n_roads\": r,\n",
    "            \"roads\": roads,\n",
    "        })\n",
    "\n",
    "cases\n",
    "        \n",
    "        \n",
    "        "
   ]
  },
  {
   "cell_type": "code",
   "execution_count": null,
   "metadata": {},
   "outputs": [],
   "source": []
  }
 ],
 "metadata": {
  "kernelspec": {
   "display_name": "Python 3",
   "language": "python",
   "name": "python3"
  },
  "language_info": {
   "codemirror_mode": {
    "name": "ipython",
    "version": 3
   },
   "file_extension": ".py",
   "mimetype": "text/x-python",
   "name": "python",
   "nbconvert_exporter": "python",
   "pygments_lexer": "ipython3",
   "version": "3.6.5"
  }
 },
 "nbformat": 4,
 "nbformat_minor": 2
}
