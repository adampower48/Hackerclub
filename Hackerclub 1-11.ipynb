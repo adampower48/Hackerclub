{
 "cells": [
  {
   "cell_type": "code",
   "execution_count": 8,
   "metadata": {},
   "outputs": [
    {
     "name": "stdout",
     "output_type": "stream",
     "text": [
      "Case #0: 0000\n",
      "Case #1: 0000\n",
      "Case #2: 0000\n"
     ]
    }
   ],
   "source": [
    "f = open(\"input.txt\")\n",
    "input = lambda: f.readline().strip()\n",
    "\n",
    "n = int(input())\n",
    "seq = [input() for _ in range(n)]\n",
    "pattern = \"welcome to codejam\"\n",
    "\n",
    "\n",
    "# Clean sequences\n",
    "for i, s in enumerate(seq):\n",
    "    bad_chars = set(s) - set(pattern)\n",
    "    \n",
    "    for c in bad_chars:\n",
    "        seq[i] = seq[i].replace(c, \"\")\n",
    "\n",
    "    \n",
    "\n",
    "for i, s in enumerate(seq):\n",
    "    nums = 0\n",
    "    \n",
    "    \n",
    "    print(\"Case #{}: {:0>4}\".format(i, nums%10000))\n",
    "    \n"
   ]
  },
  {
   "cell_type": "code",
   "execution_count": 2,
   "metadata": {},
   "outputs": [
    {
     "data": {
      "text/plain": [
       "['elcomew elcome to code jam',\n",
       " 'wweellccoommee to code  jam',\n",
       " 'welcome to codejam']"
      ]
     },
     "execution_count": 2,
     "metadata": {},
     "output_type": "execute_result"
    }
   ],
   "source": [
    "seq"
   ]
  },
  {
   "cell_type": "code",
   "execution_count": null,
   "metadata": {},
   "outputs": [],
   "source": []
  }
 ],
 "metadata": {
  "kernelspec": {
   "display_name": "Python 3",
   "language": "python",
   "name": "python3"
  },
  "language_info": {
   "codemirror_mode": {
    "name": "ipython",
    "version": 3
   },
   "file_extension": ".py",
   "mimetype": "text/x-python",
   "name": "python",
   "nbconvert_exporter": "python",
   "pygments_lexer": "ipython3",
   "version": "3.6.5"
  }
 },
 "nbformat": 4,
 "nbformat_minor": 2
}
