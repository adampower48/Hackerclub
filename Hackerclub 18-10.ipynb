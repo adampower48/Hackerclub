{
 "cells": [
  {
   "cell_type": "code",
   "execution_count": 3,
   "metadata": {},
   "outputs": [
    {
     "name": "stdout",
     "output_type": "stream",
     "text": [
      "hiss\n",
      "hiss\n"
     ]
    }
   ],
   "source": [
    "print(\"hiss\" if \"ss\" in input() else \"no hiss\")"
   ]
  },
  {
   "cell_type": "code",
   "execution_count": 6,
   "metadata": {},
   "outputs": [
    {
     "name": "stdout",
     "output_type": "stream",
     "text": [
      "2\n",
      "1\n",
      "1 is odd\n",
      "2\n",
      "2 is even\n"
     ]
    }
   ],
   "source": [
    "for _ in range(int(input())):\n",
    "    x = int(input())\n",
    "    print(x, \"is\", \"odd\" if x % 2 else \"even\")"
   ]
  },
  {
   "cell_type": "code",
   "execution_count": 7,
   "metadata": {},
   "outputs": [
    {
     "name": "stdout",
     "output_type": "stream",
     "text": [
      "2 3 7\n",
      "1\n",
      "Fizz\n",
      "Buzz\n",
      "Fizz\n",
      "5\n",
      "FizzBuzz\n",
      "7\n"
     ]
    }
   ],
   "source": [
    "x, y, n = map(int, input().split())\n",
    "for i in range(1, n+1):\n",
    "    if i % x and i % y:\n",
    "        print(i)\n",
    "        continue\n",
    "    \n",
    "    if i % x == 0:\n",
    "        print(end=\"Fizz\")\n",
    "    if i % y == 0:\n",
    "        print(end=\"Buzz\")\n",
    "    \n",
    "    print()"
   ]
  },
  {
   "cell_type": "code",
   "execution_count": 13,
   "metadata": {},
   "outputs": [
    {
     "name": "stdout",
     "output_type": "stream",
     "text": [
      "1\n",
      "10 10 -10\n",
      "1\n"
     ]
    }
   ],
   "source": [
    "input()\n",
    "print(len([1 for t in input().split() if int(t) < 0]))"
   ]
  },
  {
   "cell_type": "code",
   "execution_count": 24,
   "metadata": {},
   "outputs": [
    {
     "name": "stdout",
     "output_type": "stream",
     "text": [
      "RBLBR\n",
      "CKS"
     ]
    }
   ],
   "source": [
    "moves = list(input())\n",
    "counters = {\"R\": \"S\", \"B\": \"K\", \"L\": \"H\"}\n",
    "big = set(\"RBL\")\n",
    "\n",
    "i = 0\n",
    "while i < len(moves):\n",
    "    if set(moves[i:i+3]) == big:\n",
    "        print(end=\"C\")\n",
    "        i += 3\n",
    "    else:\n",
    "        print(end=counters[moves[i]])\n",
    "        i += 1"
   ]
  },
  {
   "cell_type": "code",
   "execution_count": 65,
   "metadata": {},
   "outputs": [],
   "source": [
    "from sys import stdin\n",
    "\n",
    "def check_coverage(width, points):\n",
    "    cur = 0\n",
    "    for i in range(len(points)):\n",
    "        if points[i][0] <= cur:\n",
    "            cur = points[i][1]\n",
    "        else:\n",
    "            return False\n",
    "        \n",
    "    if points[-1][1] < width:\n",
    "        return False\n",
    "\n",
    "    return True\n",
    "\n",
    "def get_coverage_points(w, passes):\n",
    "    covered = []\n",
    "    for p in passes:\n",
    "        covered.append((p-w/2, p+w/2))\n",
    "    \n",
    "    return sorted(covered)\n",
    "\n",
    "\n",
    "x = 75\n",
    "y = 100\n",
    "\n",
    "\n",
    "# Parse inputs\n",
    "tests = []\n",
    "lines = stdin.readlines()[:-1]\n",
    "\n",
    "for i in range(0, len(lines), 3):\n",
    "    _, _, w = map(float, lines[i].split())\n",
    "    v_passes = list(map(float, lines[i+1].split()))\n",
    "    h_passes = list(map(float, lines[i+2].split()))\n",
    "    \n",
    "    tests.append((w,v_passes,h_passes))\n",
    "\n",
    "    \n",
    "for w,v_passes,h_passes in tests:\n",
    "    x_covered = get_coverage_points(w, v_passes)\n",
    "    y_covered = get_coverage_points(w, h_passes)\n",
    "    \n",
    "    if not check_coverage(x, x_covered) or not check_coverage(y, y_covered):\n",
    "        print(\"NO\")\n",
    "        continue\n",
    "            \n",
    "    print(\"YES\")"
   ]
  },
  {
   "cell_type": "code",
   "execution_count": 86,
   "metadata": {},
   "outputs": [
    {
     "name": "stdout",
     "output_type": "stream",
     "text": [
      "11\n",
      "loops 9\n"
     ]
    }
   ],
   "source": [
    "f = open(\"input.txt\")\n",
    "input = lambda: f.readline()\n",
    "\n",
    "n, start, end = map(int, input().split())\n",
    "\n",
    "times = [list(map(int, input().split())) for _ in range(n)]\n",
    "\n",
    "path = []\n",
    "true_times = {j: times[start][j] for j in range(n)}\n",
    "\n",
    "loops = 0\n",
    "for i in range(n):\n",
    "    for j in range(n):\n",
    "        if i == j or j == start:\n",
    "            continue\n",
    "            \n",
    "        loops += 1\n",
    "        true_times[j] = min(true_times[j], true_times[i] + times[i][j])\n",
    "\n",
    "print(true_times[end])\n",
    "print(\"loops\", loops)"
   ]
  },
  {
   "cell_type": "code",
   "execution_count": null,
   "metadata": {},
   "outputs": [],
   "source": []
  }
 ],
 "metadata": {
  "kernelspec": {
   "display_name": "Python 3",
   "language": "python",
   "name": "python3"
  },
  "language_info": {
   "codemirror_mode": {
    "name": "ipython",
    "version": 3
   },
   "file_extension": ".py",
   "mimetype": "text/x-python",
   "name": "python",
   "nbconvert_exporter": "python",
   "pygments_lexer": "ipython3",
   "version": "3.6.5"
  }
 },
 "nbformat": 4,
 "nbformat_minor": 2
}
